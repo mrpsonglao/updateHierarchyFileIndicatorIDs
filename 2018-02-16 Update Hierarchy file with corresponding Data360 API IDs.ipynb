{
 "cells": [
  {
   "cell_type": "code",
   "execution_count": 1,
   "metadata": {
    "ExecuteTime": {
     "end_time": "2018-02-16T14:24:14.849415Z",
     "start_time": "2018-02-16T14:24:11.567604Z"
    },
    "collapsed": true
   },
   "outputs": [],
   "source": [
    "import pandas as pd\n",
    "import numpy as np\n",
    "import matplotlib.pyplot as plt\n",
    "import glob\n",
    "import datetime\n",
    "import requests\n",
    "import json\n",
    "import ast\n",
    "\n",
    "%matplotlib inline"
   ]
  },
  {
   "cell_type": "code",
   "execution_count": 45,
   "metadata": {
    "ExecuteTime": {
     "end_time": "2018-02-16T14:37:50.371083Z",
     "start_time": "2018-02-16T14:37:50.366544Z"
    },
    "collapsed": true
   },
   "outputs": [],
   "source": [
    "# set working folder for hierarchy files\n",
    "working_folder = '2018-02-16-hierarchy-files'\n",
    "update_date = datetime.datetime.today().strftime('%m.%d.%y')"
   ]
  },
  {
   "cell_type": "code",
   "execution_count": 49,
   "metadata": {
    "ExecuteTime": {
     "end_time": "2018-02-16T14:39:45.345078Z",
     "start_time": "2018-02-16T14:39:37.735410Z"
    }
   },
   "outputs": [
    {
     "name": "stdout",
     "output_type": "stream",
     "text": [
      "IDs are unique.\n",
      "There are currently 30 indicators labeled as 'New' or 'new' in the latest hierarchy file.\n",
      "Finished updating indicator IDs for 13 indicators in the hierarchy file.\n",
      "There are 17 uningested indicators in the hierarchy file labeled as 'new'.\n"
     ]
    }
   ],
   "source": [
    "# download latest indicators dataset in Backend PROD\n",
    "response = requests.get('http://tcdata360-backend.worldbank.org/api/v1/indicators/')\n",
    "tc_indicators = pd.read_json(response.text)\n",
    "\n",
    "# set key columns for hierarchy file\n",
    "key_columns = list(df_ind.columns)\n",
    "key_columns.append('id')\n",
    "\n",
    "# get latest hierarchy.indicators file shared with Vendor\n",
    "df_ind_filename = glob.glob(\"%s/hierarchy.indicators *.csv\" % working_folder)[0]\n",
    "df_ind = pd.read_csv(df_ind_filename)\n",
    "\n",
    "# merge indicators dataset API ID against latest hierarchy file\n",
    "df_tc_hier_id_mapping = df_ind.merge(tc_indicators,\n",
    "                                     how='left',\n",
    "                                   left_on=['Display Name', 'Dataset','Value Type Slug', 'Value Type Descriptor', 'Units'],\n",
    "                                   right_on=['name', 'dataset','valueType', 'subindicatorType','units'])[key_columns]\n",
    "\n",
    "# check if pulled IDs are unique.\n",
    "if df_tc_hier_id_mapping['id'][df_tc_hier_id_mapping['id'].notnull()].is_unique:\n",
    "    print(\"IDs are unique.\")\n",
    "    \n",
    "current_new = df_tc_hier_id_mapping[(pd.to_numeric(df_tc_hier_id_mapping['id'], errors='coerce') != pd.to_numeric(df_tc_hier_id_mapping['Indicator ID'], errors='coerce')) & (df_tc_hier_id_mapping['id'].notnull())]['Indicator ID'].value_counts().sum()\n",
    "print(\"There are currently %d indicators labeled as 'New' or 'new' in the latest hierarchy file.\" % current_new)\n",
    "\n",
    "# update all new indicators with latest API ID.\n",
    "df_tc_hier_id_mapping.loc[df_tc_hier_id_mapping['Indicator ID'].isin(['new', 'New']), 'Indicator ID'] = np.nan\n",
    "df_tc_hier_id_mapping['Indicator ID_updated'] = df_tc_hier_id_mapping['Indicator ID'].combine_first(df_tc_hier_id_mapping['id'])\n",
    "\n",
    "# all uningested indicators will have ID = \"new\"\n",
    "uningested_indicators = df_tc_hier_id_mapping.loc[df_tc_hier_id_mapping['Indicator ID_updated'].isnull(), 'Indicator ID_updated'].size\n",
    "df_tc_hier_id_mapping.loc[df_tc_hier_id_mapping['Indicator ID_updated'].isnull(), 'Indicator ID_updated'] = 'new'\n",
    "print(\"Finished updating indicator IDs for %d indicators in the hierarchy file.\" % (current_new - uningested_indicators))\n",
    "print(\"There are %d uningested indicators in the hierarchy file labeled as 'new'.\" % uningested_indicators)\n",
    "\n",
    "# update Indicator ID column in hierarchy file\n",
    "df_tc_hier_id_mapping['Indicator ID'] = df_tc_hier_id_mapping['Indicator ID_updated']\n",
    "df_tc_hier_id_mapping = df_tc_hier_id_mapping[df_ind.columns]\n",
    "\n",
    "df_tc_hier_id_mapping.to_csv(\"%s/hierarchy.indicators %s.csv\" % (working_folder, update_date), index=False, line_terminator='\\r')"
   ]
  }
 ],
 "metadata": {
  "kernelspec": {
   "display_name": "Python 3",
   "language": "python",
   "name": "python3"
  },
  "language_info": {
   "codemirror_mode": {
    "name": "ipython",
    "version": 3
   },
   "file_extension": ".py",
   "mimetype": "text/x-python",
   "name": "python",
   "nbconvert_exporter": "python",
   "pygments_lexer": "ipython3",
   "version": "3.6.1"
  },
  "toc": {
   "colors": {
    "hover_highlight": "#DAA520",
    "navigate_num": "#000000",
    "navigate_text": "#333333",
    "running_highlight": "#FF0000",
    "selected_highlight": "#FFD700",
    "sidebar_border": "#EEEEEE",
    "wrapper_background": "#FFFFFF"
   },
   "moveMenuLeft": true,
   "nav_menu": {
    "height": "12px",
    "width": "252px"
   },
   "navigate_menu": true,
   "number_sections": true,
   "sideBar": true,
   "threshold": 4,
   "toc_cell": false,
   "toc_section_display": "block",
   "toc_window_display": false,
   "widenNotebook": false
  }
 },
 "nbformat": 4,
 "nbformat_minor": 2
}
